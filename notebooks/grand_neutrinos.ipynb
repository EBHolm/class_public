{
 "cells": [
  {
   "cell_type": "markdown",
   "id": "db2fd51a",
   "metadata": {},
   "source": [
    "# Test of the \"grand neutrino\" collectivisation implementation"
   ]
  },
  {
   "cell_type": "code",
   "execution_count": 11,
   "id": "7cc69add",
   "metadata": {},
   "outputs": [],
   "source": [
    "import numpy as np\n",
    "import matplotlib.pyplot as plt\n",
    "from classy import Class\n",
    "from time import perf_counter"
   ]
  },
  {
   "cell_type": "code",
   "execution_count": 2,
   "id": "8b1557ca",
   "metadata": {},
   "outputs": [],
   "source": [
    "from scipy.interpolate import interp1d\n",
    "def interp_onto(xdata, ydata, xonto):\n",
    "    interp = interp1d(xdata, ydata)\n",
    "    return interp(xonto)"
   ]
  },
  {
   "cell_type": "code",
   "execution_count": 3,
   "id": "7664519b",
   "metadata": {},
   "outputs": [],
   "source": [
    "masses = [1, 2, 3]\n",
    "degs   = [1, 1, 1]\n",
    "Nbins = 30\n",
    "\n",
    "standard_settings = {\n",
    "    'H0': 70.0,\n",
    "    'Omega_cdm': 0.26,\n",
    "    # etc...\n",
    "    \n",
    "    'N_ncdm': len(masses),\n",
    "    'm_ncdm': ', '.join([str(i) for i in masses]),\n",
    "    'deg_ncdm': ', '.join([str(i) for i in degs]),\n",
    "\n",
    "    'Quadrature strategy': '3, 3, 3',\n",
    "    'Maximum_q': '8, 8, 8',\n",
    "    'Number of momentum bins': f'{Nbins}, {Nbins}, {Nbins}',\n",
    "    \n",
    "    'output_ncdm_binning': 0,\n",
    "#    'output': 'tCl',\n",
    "#    'ncdm_fluid_approximation': 0,\n",
    "}"
   ]
  },
  {
   "cell_type": "code",
   "execution_count": 4,
   "id": "87ca073a",
   "metadata": {},
   "outputs": [
    {
     "name": "stdout",
     "output_type": "stream",
     "text": [
      "Computed 3 separate species in 0.074207 s\n",
      "Computed 3 collective species in 0.042382 s\n"
     ]
    }
   ],
   "source": [
    "separate = Class()\n",
    "separate.set(standard_settings)\n",
    "tic = perf_counter()\n",
    "separate.compute()\n",
    "toc = perf_counter()\n",
    "print(f\"Computed {len(masses)} separate species in {toc - tic:.5} s\")\n",
    "\n",
    "collective = Class()\n",
    "collective.set(standard_settings | {'collective_ncdm': 1})\n",
    "tic = perf_counter()\n",
    "collective.compute()\n",
    "toc = perf_counter()\n",
    "print(f\"Computed {len(masses)} collective species in {toc - tic:.5} s\")"
   ]
  },
  {
   "cell_type": "markdown",
   "id": "cb2ee85f",
   "metadata": {},
   "source": [
    "Pretty OK speed-up, about factor 2 in background."
   ]
  },
  {
   "cell_type": "code",
   "execution_count": 12,
   "id": "7359e129",
   "metadata": {},
   "outputs": [
    {
     "data": {
      "text/plain": [
       "[<matplotlib.lines.Line2D at 0x12ea8f520>]"
      ]
     },
     "execution_count": 12,
     "metadata": {},
     "output_type": "execute_result"
    },
    {
     "data": {
      "image/png": "[encoded data removed]",
      "text/plain": [
       "<Figure size 216x144 with 1 Axes>"
      ]
     },
     "metadata": {
      "needs_background": "light"
     },
     "output_type": "display_data"
    }
   ],
   "source": [
    "bg_sep, bg_col = separate.get_background(), collective.get_background()\n",
    "a_sep = 1/(1 + bg_sep['z'])\n",
    "a_col = 1/(1 + bg_col['z'])\n",
    "rho_tot_sep = interp_onto(a_sep, np.sum(np.vstack([bg_sep[f'(.)rho_ncdm[{idx}]'] for idx in range(len(masses))]), axis=0), a_col)\n",
    "\n",
    "fig, ax = plt.subplots(1, 1, figsize=(3, 2))\n",
    "ax.set_title(f'{Nbins} bins')\n",
    "ax.set(xlabel='a', ylabel=r'$\\Delta /rho_\\mathrm{tot}/rho_\\mathrm{tot,sep}$', xscale='log', yscale='linear')\n",
    "ax.plot(a_col, (bg_col['(.)rho_ncdm[0]'] - rho_tot_sep)/rho_tot_sep, 'k-', lw=1.2)\n",
    "ax.plot(a_col, np.zeros(len(a_col)), 'k--', lw=0.9)"
   ]
  },
  {
   "cell_type": "code",
   "execution_count": 9,
   "id": "221a04ef",
   "metadata": {},
   "outputs": [],
   "source": [
    "def get_ini_rho_error(Nbins, strategy=3):\n",
    "    separate = Class()\n",
    "    separate.set(standard_settings | {'Number of momentum bins': f'{Nbins}, {Nbins}, {Nbins}', 'Quadrature strategy': f'{strategy}, {strategy}, {strategy}'})\n",
    "    separate.compute()\n",
    "\n",
    "    collective = Class()\n",
    "    collective.set(standard_settings | {'collective_ncdm': 1, 'Number of momentum bins': f'{Nbins}, {Nbins}, {Nbins}', 'Quadrature strategy': f'{strategy}, {strategy}, {strategy}'})\n",
    "    collective.compute()\n",
    "\n",
    "    bg_sep, bg_col = separate.get_background(), collective.get_background()\n",
    "    a_sep = 1/(1 + bg_sep['z'])\n",
    "    a_col = 1/(1 + bg_col['z'])\n",
    "    rho_tot_sep = interp_onto(a_sep, np.sum(np.vstack([bg_sep[f'(.)rho_ncdm[{idx}]'] for idx in range(len(masses))]), axis=0), a_col)\n",
    "\n",
    "    error = (bg_col['(.)rho_ncdm[0]'] - rho_tot_sep)/rho_tot_sep\n",
    "    return error[0]"
   ]
  },
  {
   "cell_type": "code",
   "execution_count": 10,
   "id": "1ebe6456",
   "metadata": {},
   "outputs": [
    {
     "data": {
      "text/plain": [
       "<matplotlib.legend.Legend at 0x11fd567a0>"
      ]
     },
     "execution_count": 10,
     "metadata": {},
     "output_type": "execute_result"
    },
    {
     "data": {
      "image/png": "[encoded data removed]",
      "text/plain": [
       "<Figure size 432x216 with 1 Axes>"
      ]
     },
     "metadata": {
      "needs_background": "light"
     },
     "output_type": "display_data"
    }
   ],
   "source": [
    "binlist = [5, 10, 50, 100, 250, 500, 1000]\n",
    "laguerre_cut = 100\n",
    "errorlist_auto = [get_ini_rho_error(bins, strategy=0) for bins in binlist]\n",
    "errorlist_laguerre = [get_ini_rho_error(bins, strategy=1) for bins in binlist if bins < laguerre_cut]\n",
    "errorlist_trapz_inf = [get_ini_rho_error(bins, strategy=2) for bins in binlist]\n",
    "errorlist_trapz = [get_ini_rho_error(bins, strategy=3) for bins in binlist]\n",
    "\n",
    "fig, ax = plt.subplots(1, 1, figsize=(6, 3))\n",
    "ax.set_title(f'Initial error in rho_ncdm, different strategies')\n",
    "ax.set(xlabel='# bins', ylabel=r'Initial $|\\Delta /rho_\\mathrm{tot}/rho_\\mathrm{tot,sep}|$', xscale='log', yscale='log')\n",
    "ax.plot(binlist, np.abs(errorlist_auto), '.-', lw=1.2, label='auto')\n",
    "ax.plot([b for b in binlist if b < laguerre_cut], np.abs(errorlist_laguerre), '.-', lw=1.2, label='Laguerre')\n",
    "ax.plot(binlist, np.abs(errorlist_trapz_inf), '.-', lw=1.2, label='trapz inf')\n",
    "ax.plot(binlist, np.abs(errorlist_trapz), '.-', lw=1.2, label='trapz')\n",
    "ax.legend()"
   ]
  },
  {
   "cell_type": "code",
   "execution_count": null,
   "id": "b6e41f34",
   "metadata": {},
   "outputs": [],
   "source": [
    "def get_binning(Nbins, strategy=3):\n",
    "    collective = Class()\n",
    "    collective.set(standard_settings | {'collective_ncdm': 1, 'output_ncdm_binning': 1, 'Number of momentum bins': f'{Nbins}, {Nbins}, {Nbins}', 'Quadrature strategy': f'{strategy}, {strategy}, {strategy}'})\n",
    "    collective.compute()\n",
    "    bg = collective.get_background()\n",
    "    qlist = [bg[f'q_ncdm[0][{idx}]'][0] for idx in range(Nbins)]\n",
    "    wlist = [bg[f'w_ncdm[0][{idx}]'][0] for idx in range(Nbins)]\n",
    "    return np.array(qlist), np.array(wlist)\n",
    "    "
   ]
  },
  {
   "cell_type": "code",
   "execution_count": null,
   "id": "ce2b24de",
   "metadata": {},
   "outputs": [],
   "source": [
    "bins = 30\n",
    "\n",
    "fig, ax = plt.subplots(1, 1, figsize=(6, 3))\n",
    "ax.set_title(f'collective distribution function, m={masses}, {bins} bins')\n",
    "ax.set(xlabel='q', ylabel=r'$q^2 f(q) \\ dq$', xscale='linear', yscale='linear')\n",
    "\n",
    "q_auto, w_auto = get_binning(bins, strategy=0)\n",
    "ax.plot(q_auto, q_auto**2*w_auto, '.-', lw=1.2, label='auto')\n",
    "\n",
    "q_lag, w_lag = get_binning(bins, strategy=1)\n",
    "ax.plot(q_lag, q_lag**2*w_lag, '.-', lw=1.2, label='Gauss-Laguerre')\n",
    "\n",
    "q_trapz_inf, w_trapz_inf = get_binning(bins, strategy=2)\n",
    "ax.plot(q_trapz_inf, q_trapz_inf**2*w_trapz_inf, '.-', lw=1.2, label='Trapz inf')\n",
    "\n",
    "q_trapz, w_trapz = get_binning(bins, strategy=3)\n",
    "ax.plot(q_trapz, q_trapz**2*w_trapz, '.-', lw=1.2, label='Trapz')\n",
    "\n",
    "ax.set(xlim=[0, 8])\n",
    "ax.legend()"
   ]
  },
  {
   "cell_type": "markdown",
   "id": "04263ac6",
   "metadata": {},
   "source": [
    "# Perturbations"
   ]
  },
  {
   "cell_type": "markdown",
   "id": "6ce9d9e6",
   "metadata": {},
   "source": [
    "Massive speed-up in perturbations! About a factor 4 when including perturbations!"
   ]
  },
  {
   "cell_type": "markdown",
   "id": "fa4a5a30",
   "metadata": {},
   "source": []
  }
 ],
 "metadata": {
  "kernelspec": {
   "display_name": "Python 3 (ipykernel)",
   "language": "python",
   "name": "python3"
  },
  "language_info": {
   "codemirror_mode": {
    "name": "ipython",
    "version": 3
   },
   "file_extension": ".py",
   "mimetype": "text/x-python",
   "name": "python",
   "nbconvert_exporter": "python",
   "pygments_lexer": "ipython3",
   "version": "3.10.5"
  }
 },
 "nbformat": 4,
 "nbformat_minor": 5
}
